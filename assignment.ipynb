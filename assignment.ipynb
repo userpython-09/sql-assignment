{
 "cells": [
  {
   "cell_type": "markdown",
   "id": "b7a483b1-bf0d-432f-9ed4-b966ac2692d1",
   "metadata": {},
   "source": [
    "1) A database is an organized system for storing, managing, and retrieving data efficiently.\n",
    "\n",
    "SQL Databases:\n",
    "\n",
    "Structured Query Language (SQL): Use SQL for defining and manipulating data.\n",
    "Schema: Have a fixed schema with predefined tables and relationships.\n",
    "Data Integrity: Ensure strong data consistency and integrity through ACID (Atomicity, Consistency, Isolation, Durability) properties.\n",
    "Examples: MySQL, PostgreSQL, Oracle.\n",
    "NoSQL Databases:\n",
    "\n",
    "Flexible Schema: Allow for a more flexible, schema-less design.\n",
    "Types: Include key-value stores, document stores, column-family stores, and graph databases.\n",
    "Scalability: Often designed to scale horizontally, handling large amounts of unstructured or semi-structured data.\n",
    "Examples: MongoDB, Cassandra, Redis."
   ]
  },
  {
   "cell_type": "markdown",
   "id": "2949e217-8b2a-4e5a-9e7a-87ae1877d344",
   "metadata": {},
   "source": [
    "2) DDL (Data Definition Language) manages database structures. Key commands are:\n",
    "\n",
    "CREATE: Adds new tables or other objects.\n",
    "DROP: Deletes tables or objects.\n",
    "ALTER: Modifies existing tables or objects.\n",
    "TRUNCATE: Clears all data from a table but keeps the table itself."
   ]
  },
  {
   "cell_type": "code",
   "execution_count": 1,
   "id": "886202f4-6e34-4e7a-ae3b-f605286acb12",
   "metadata": {},
   "outputs": [],
   "source": [
    "q1 = 'CREATE TABLE Student'\n",
    "q2 = 'DROP TABLE Student'\n",
    "q3 = 'ALTER TABLE Student ADD Address VARCHAR(10)'\n",
    "q4 = 'TRUNCATE TABLE Student'"
   ]
  },
  {
   "cell_type": "markdown",
   "id": "c976c041-a911-453b-9b9e-0891fec06164",
   "metadata": {},
   "source": [
    "3) DML (Data Manipulation Language) deals with the manipulation and retrieval of data within existing database structures.\n",
    "\n",
    "INSERT: Adds new rows of data to a table.\n",
    "\n",
    "UPDATE: Modifies existing data in a table.\n",
    "\n",
    "DELETE: Removes rows of data from a table.\n"
   ]
  },
  {
   "cell_type": "code",
   "execution_count": 2,
   "id": "88aa3bba-2a4b-40f3-89d8-1169ad01423e",
   "metadata": {},
   "outputs": [],
   "source": [
    "q5 = 'INSERT INTO Student(ID , name) VALUES (142, \"AJAY\"), (143, \"Adam\")'\n",
    "q6 = 'UPDATE Student SET name = \"Someone\" WHERE name = \"Adam\"'\n",
    "q7 = 'DELETE FROM Student WHERE name = \"AJAY\"'"
   ]
  },
  {
   "cell_type": "markdown",
   "id": "a8017104-4d12-4f01-a08e-fc2a41aa9bcf",
   "metadata": {},
   "source": [
    "4) DQL (Data Query Language) is a part of SQL used for querying data from a database.\n",
    "The SELECT statement is the main command in DQL and retrieves data from one or more tables.\n",
    "It allows you to specify columns to retrieve, filter results with WHERE, sort with ORDER BY, and group with GROUP BY."
   ]
  },
  {
   "cell_type": "code",
   "execution_count": 3,
   "id": "a07c33b8-f453-4042-89ff-8e5bc0948a2e",
   "metadata": {},
   "outputs": [],
   "source": [
    "q8 = 'SELECT * FROM Student ORDER BY ID DESC'\n",
    "q9 = 'SELECT ID FROM Student WHERE ID > 100'"
   ]
  },
  {
   "cell_type": "markdown",
   "id": "b5617b2c-dc4a-4215-8470-e0abe3c2f261",
   "metadata": {},
   "source": [
    "5) Primary Key: Uniquely identifies each record in a table. Must be unique and not null. \n",
    "\n",
    "Foreign Key: Links records between tables by referencing the primary key of another table. Ensures referential integrity. "
   ]
  },
  {
   "cell_type": "markdown",
   "id": "da365643-58ef-4eb5-a327-28f6462913fd",
   "metadata": {},
   "source": [
    "6) cursor() creates a cursor object which is used to interact with the database.\n",
    "execute() runs SQL queries on the database using the cursor object.\n",
    "CODE : "
   ]
  },
  {
   "cell_type": "code",
   "execution_count": null,
   "id": "49dc4be8-c8cd-4626-b8ec-c354d1826e51",
   "metadata": {},
   "outputs": [],
   "source": [
    "pip install mysql.connector\n",
    "import mysql.connector\n",
    "mydb = mysql.connector.connect(\n",
    "    host = 'localhost'\n",
    "    user = 'root'\n",
    "    password = 'root@1234'\n",
    ")"
   ]
  },
  {
   "cell_type": "markdown",
   "id": "80e2cc33-354e-4d29-a149-6e0d701f2b50",
   "metadata": {},
   "source": [
    "7) FROM: Selects the tables or views to retrieve data from.\n",
    "JOIN: Combines rows from different tables based on conditions.\n",
    "ON: Specifies the join conditions.\n",
    "WHERE: Filters rows based on specified conditions.\n",
    "GROUP BY: Groups rows that have the same values into summary rows.\n",
    "HAVING: Filters groups based on conditions.\n",
    "SELECT: Chooses columns to be returned in the result.\n",
    "DISTINCT: Removes duplicate rows (if used).\n",
    "ORDER BY: Sorts the result set.\n",
    "LIMIT (or TOP): Restricts the number of rows returned."
   ]
  },
  {
   "cell_type": "code",
   "execution_count": null,
   "id": "8da5bc4b-da61-4187-b9ba-c13db1aae3bc",
   "metadata": {},
   "outputs": [],
   "source": []
  }
 ],
 "metadata": {
  "kernelspec": {
   "display_name": "Python 3 (ipykernel)",
   "language": "python",
   "name": "python3"
  },
  "language_info": {
   "codemirror_mode": {
    "name": "ipython",
    "version": 3
   },
   "file_extension": ".py",
   "mimetype": "text/x-python",
   "name": "python",
   "nbconvert_exporter": "python",
   "pygments_lexer": "ipython3",
   "version": "3.10.8"
  }
 },
 "nbformat": 4,
 "nbformat_minor": 5
}
